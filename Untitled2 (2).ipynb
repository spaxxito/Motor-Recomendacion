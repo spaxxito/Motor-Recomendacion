{
 "cells": [
  {
   "cell_type": "code",
   "execution_count": 23,
   "id": "95da80fe",
   "metadata": {},
   "outputs": [],
   "source": [
    "import numpy as np\n",
    "import pandas as pd\n",
    "import matplotlib.pyplot as plt\n",
    "import seaborn as sns\n",
    "from sklearn.feature_extraction.text import CountVectorizer\n",
    "from sklearn.metrics.pairwise import cosine_similarity\n",
    "import ipywidgets as widgets\n",
    "from IPython.display import display, clear_output"
   ]
  },
  {
   "cell_type": "markdown",
   "id": "62031436",
   "metadata": {},
   "source": [
    "Lo primero es importar los datos con información de libros para poder generar el dataset que usaremos para el sistema de recomendación. A su vez añado una nueva columna con el valor \"Score\" que tiene en cuenta las valoraciones de la gente y el número de valoraciones realizadas (mediante la media IMDB): *CAMBIAR DIRECCIÓN DEL FICHERO CSV"
   ]
  },
  {
   "cell_type": "code",
   "execution_count": 24,
   "id": "f536f5e8",
   "metadata": {},
   "outputs": [
    {
     "name": "stderr",
     "output_type": "stream",
     "text": [
      "/var/folders/j6/l3gwch3x12xdybm0vts63l2w0000gn/T/ipykernel_19954/1990194280.py:13: SettingWithCopyWarning: \n",
      "A value is trying to be set on a copy of a slice from a DataFrame.\n",
      "Try using .loc[row_indexer,col_indexer] = value instead\n",
      "\n",
      "See the caveats in the documentation: https://pandas.pydata.org/pandas-docs/stable/user_guide/indexing.html#returning-a-view-versus-a-copy\n",
      "  b['score']=b.apply(media_imdb,axis=1)\n"
     ]
    }
   ],
   "source": [
    "datos_libros_base=pd.read_csv('/Users/adri/downloads/Goodreads_books_with_genres.csv')\n",
    "d=datos_libros_base.copy()\n",
    "corte_votos= d['ratings_count'].quantile(0.5)\n",
    "b= d[d.ratings_count >= corte_votos]\n",
    "media = b.average_rating.mean()\n",
    "media\n",
    "\n",
    "def media_imdb(x, m=corte_votos, C=media):\n",
    "    v = x['ratings_count']\n",
    "    R = x['average_rating']\n",
    "    # Calculamos el weighted score\n",
    "    return round((R*v + C*m) / (v+m),2)\n",
    "b['score']=b.apply(media_imdb,axis=1)\n"
   ]
  },
  {
   "cell_type": "markdown",
   "id": "ba20d3c8",
   "metadata": {},
   "source": [
    "Procedo a realizar una limpieza de los datos con la finalidad de que no hayan problemas a la hora de emplear el sistema de recomendación. Cada una de las razones por las que decido aplicar estos cambios/filtros al dataset viene explicado junto al comando:"
   ]
  },
  {
   "cell_type": "code",
   "execution_count": 25,
   "id": "87af96f1",
   "metadata": {},
   "outputs": [
    {
     "name": "stderr",
     "output_type": "stream",
     "text": [
      "/var/folders/j6/l3gwch3x12xdybm0vts63l2w0000gn/T/ipykernel_19954/3710629606.py:1: SettingWithCopyWarning: \n",
      "A value is trying to be set on a copy of a slice from a DataFrame\n",
      "\n",
      "See the caveats in the documentation: https://pandas.pydata.org/pandas-docs/stable/user_guide/indexing.html#returning-a-view-versus-a-copy\n",
      "  b.dropna(subset=['genres'], inplace=True)\n"
     ]
    }
   ],
   "source": [
    "b.dropna(subset=['genres'], inplace=True)\n",
    "b = b[b['num_pages'] != 0] #Eliminar aquellos libros que aparezca 0 paginas\n",
    "b = b[b['ratings_count'] != 0] #Eliminar aquellos libros sin valoraciones\n",
    "b = b[b['language_code'] == 'eng'] #Solo libros en lengua inglesa\n",
    "b['Author']=b['Author'].str.split('/').str[0] #Tomar solo el escritor de los libros\n",
    "b['Title'] = b['Title'].str.lower()\n",
    "b['Author'] = b['Author'].str.lower()\n",
    "\n",
    "# Luego, elimina los duplicados\n",
    "b = b.drop_duplicates(subset=['Title', 'Author']) #Eliminar aquellos libros cuyo titulo y autor sea identico"
   ]
  },
  {
   "cell_type": "markdown",
   "id": "2f10b74c",
   "metadata": {},
   "source": [
    "Puesto que el dataset del que dispongo la información más relevante para poder realizar las recomendaciones es el género de los libros y su autor, voy a emplear un algoritmo basado en el contenido, empleando CountVectorizer. De haber tenido acceso a la sinopsis de los libros, habría podido emplear otro tipo de recomendadores que estuvieran basados en esta para encontrar mayor similitud entre los libros."
   ]
  },
  {
   "cell_type": "code",
   "execution_count": 26,
   "id": "d05e2eff",
   "metadata": {},
   "outputs": [],
   "source": [
    "count = CountVectorizer()\n",
    "\n",
    "count_matrix = count.fit_transform(b['genres'])\n",
    "similitud_coseno = cosine_similarity(count_matrix, count_matrix)\n",
    "indices = b.reset_index(drop=True)\n",
    "indices = pd.Series(indices.index, index=b['Title'])"
   ]
  },
  {
   "cell_type": "markdown",
   "id": "50e40a34",
   "metadata": {},
   "source": [
    "Ahora que ya esta calculada la similitud del coseno voy a definir una serie de funciones para poder realizar las recomendaciones. La primera función esta pensada para que el usuario ponga el título de un libro y el sistema le recomiende títulos que tengan una temática similar. He añadido unas lineas de código para que el sistema encuentre algún título similar en caso de que no coincida exactamente con ninguno del dataframe. En caso de no haber coincidencias el sistema informará de que el título no se encuentra en el dataframe:"
   ]
  },
  {
   "cell_type": "code",
   "execution_count": 27,
   "id": "8a48f850",
   "metadata": {},
   "outputs": [],
   "source": [
    "def content_recommender(title, cosine_sim=similitud_coseno, df=b, indices=indices):\n",
    "    # Busca el índice del libro que contiene el título dado (sin importar mayúsculas/minúsculas)\n",
    "    try:\n",
    "        id_ = next(index for index, book_title in enumerate(df['Title']) if title.lower() in book_title.lower())\n",
    "    except StopIteration:\n",
    "        print(\"El título proporcionado no se encuentra en el DataFrame.\")\n",
    "        return None\n",
    "\n",
    "    # Obtén las puntuaciones de similitud para el libro seleccionado\n",
    "    scores = list(enumerate(cosine_sim[id_]))\n",
    "\n",
    "    # Ordena las puntuaciones en orden descendente\n",
    "    scores = sorted(scores, key=lambda x: x[1], reverse=True)\n",
    "\n",
    "    # Toma los 20 libros más similares (excluyendo el libro en sí mismo)\n",
    "    scores = scores[0:20]\n",
    "\n",
    "    # Obtén los índices de los libros recomendados\n",
    "    indices = [i[0] for i in scores]\n",
    "\n",
    "    # Obtener los libros recomendados con títulos y otras columnas\n",
    "    recommended = df.iloc[indices][['Title', 'genres', 'Author', 'score']].reset_index(drop=True)\n",
    "\n",
    "    # Limitar la columna 'genres' a los primeros 5 géneros\n",
    "    def limit_genres(genres):\n",
    "        genres_list = genres.split(';')\n",
    "        return ';'.join(genres_list[:5])\n",
    "\n",
    "    recommended['genres'] = recommended['genres'].apply(limit_genres)\n",
    "\n",
    "    return recommended\n"
   ]
  },
  {
   "cell_type": "markdown",
   "id": "99b3d5ac",
   "metadata": {},
   "source": [
    " Repetimos el proceso pero para que se realice a partir del nombre del autor. Puesto que no tengo acceso a la sinopsis de los libros, la similitud se realizará en función del género que suele escribir el autor, recomendando libros con género similar:"
   ]
  },
  {
   "cell_type": "code",
   "execution_count": 28,
   "id": "8fb51ba2",
   "metadata": {},
   "outputs": [],
   "source": [
    "def content_recommender2(Author, cosine_sim=similitud_coseno, df=b, indices=indices):\n",
    "    # Busca el índice del libro que contiene el título dado (sin importar mayúsculas/minúsculas)\n",
    "    try:\n",
    "        id_ = next(index for index, book_title in enumerate(df['Author']) if Author.lower() in book_title.lower())\n",
    "    except StopIteration:\n",
    "        print(\"El autor proporcionado no se encuentra en el DataFrame.\")\n",
    "        return None\n",
    "\n",
    "    # Obtén las puntuaciones de similitud para el libro seleccionado\n",
    "    scores = list(enumerate(cosine_sim[id_]))\n",
    "\n",
    "    # Ordena las puntuaciones en orden descendente\n",
    "    scores = sorted(scores, key=lambda x: x[1], reverse=True)\n",
    "\n",
    "    # Toma los 20 libros más similares (excluyendo el libro en sí mismo)\n",
    "    scores = scores[0:20]\n",
    "\n",
    "    # Obtén los índices de los libros recomendados\n",
    "    indices = [i[0] for i in scores]\n",
    "\n",
    "    # Obtener los libros recomendados con títulos y otras columnas\n",
    "    recommended2 = df.iloc[indices][['Title', 'genres', 'Author', 'score']].reset_index(drop=True)\n",
    "\n",
    "    # Limitar la columna 'genres' a los primeros 5 géneros\n",
    "    def limit_genres(genres):\n",
    "        genres_list = genres.split(';')\n",
    "        return ';'.join(genres_list[:5])\n",
    "\n",
    "    recommended2['genres'] = recommended2['genres'].apply(limit_genres)\n",
    "\n",
    "    return recommended2"
   ]
  },
  {
   "cell_type": "markdown",
   "id": "649ebebc",
   "metadata": {},
   "source": [
    "Por último, realizamos una serie de botones que nos permitan decidir bajo que aspecto queremos recibir las recomendaciones y de que manera queremos que se muestren los datos. Para este caso he considerado relevante que se muestre por pantalla el título de la obra, el género, su autor, el score de esta y la cantidad de valoraciones:"
   ]
  },
  {
   "cell_type": "code",
   "execution_count": 29,
   "id": "63af0214",
   "metadata": {},
   "outputs": [
    {
     "data": {
      "application/vnd.jupyter.widget-view+json": {
       "model_id": "84da94abef5849f69e9c2f2cba1eb4d0",
       "version_major": 2,
       "version_minor": 0
      },
      "text/plain": [
       "Text(value='Horror;Fiction;Fantasy', description='Género:')"
      ]
     },
     "metadata": {},
     "output_type": "display_data"
    },
    {
     "data": {
      "application/vnd.jupyter.widget-view+json": {
       "model_id": "830ea54dd31745dcb5e9ff545c6b8ef0",
       "version_major": 2,
       "version_minor": 0
      },
      "text/plain": [
       "Button(description='Buscar Género', style=ButtonStyle())"
      ]
     },
     "metadata": {},
     "output_type": "display_data"
    },
    {
     "data": {
      "application/vnd.jupyter.widget-view+json": {
       "model_id": "9e943e540c0644deb9756f801bf68097",
       "version_major": 2,
       "version_minor": 0
      },
      "text/plain": [
       "Button(description='Autor', style=ButtonStyle())"
      ]
     },
     "metadata": {},
     "output_type": "display_data"
    },
    {
     "data": {
      "application/vnd.jupyter.widget-view+json": {
       "model_id": "639e50838fcd4442bdabf82e3b97e257",
       "version_major": 2,
       "version_minor": 0
      },
      "text/plain": [
       "Button(description='Género', style=ButtonStyle())"
      ]
     },
     "metadata": {},
     "output_type": "display_data"
    },
    {
     "data": {
      "application/vnd.jupyter.widget-view+json": {
       "model_id": "ab0d8d33f596497d8a52fe8a1ae59f53",
       "version_major": 2,
       "version_minor": 0
      },
      "text/plain": [
       "Button(description='Libro similar', style=ButtonStyle())"
      ]
     },
     "metadata": {},
     "output_type": "display_data"
    }
   ],
   "source": [
    "def show_input_fields(button):\n",
    "    clear_output(wait=True)  # Limpia la salida anterior\n",
    "\n",
    "    # Muestra el widget de entrada correspondiente y su botón\n",
    "    if button.description == \"Autor\":\n",
    "        display(author_input)\n",
    "        display(submit_author_button)\n",
    "    elif button.description == \"Género\":\n",
    "        display(genre_input)\n",
    "        display(submit_genre_button)\n",
    "    elif button.description == \"Libro similar\":\n",
    "        display(libro_input)\n",
    "        display(submit_libro_button)\n",
    "    \n",
    "    # Mostrar los botones para elegir entre Autor, Género o libro\n",
    "    display(button_author)\n",
    "    display(button_genre)\n",
    "    display(button_libro)\n",
    "\n",
    "def show_recommendations(button):\n",
    "    clear_output(wait=True)  # Limpia la salida anterior\n",
    "    \n",
    "    if button.description == \"Buscar Autor\":\n",
    "        author_name = author_input.value  # Obtén el valor de la entrada del autor\n",
    "        recommended2 = content_recommender2(author_name)\n",
    "        if recommended2 is not None:\n",
    "            display(recommended2)\n",
    "            \n",
    "    elif button.description == \"Buscar Género\":\n",
    "        genre_name = genre_input.value  # Obtén el valor de la entrada del género\n",
    "        genre_books = b[b['genres'].str.contains(genre_name, case=False, na=False)]\n",
    "        recommended_books = genre_books.sort_values('score', ascending=False).head(20)\n",
    "        \n",
    "        def limit_genres(genres):\n",
    "            genres_list = genres.split(';')\n",
    "            return ';'.join(genres_list[:5])\n",
    "\n",
    "        recommended_books['genres'] = recommended_books['genres'].apply(limit_genres)\n",
    "        result = recommended_books[['Title', 'genres', 'Author', 'score', 'ratings_count']].reset_index(drop=True)\n",
    "        \n",
    "        # Mostrar los resultados\n",
    "        display(result)\n",
    "\n",
    "        # Guardar los resultados globalmente para que se puedan acceder en la función de ordenar\n",
    "        global nombreoriginal\n",
    "        nombreoriginal = genre_name\n",
    "\n",
    "        # Mostrar el botón de ordenar por popularidad\n",
    "        display(sort_by_popularity_button)\n",
    "    \n",
    "    elif button.description == \"Buscar por libro\":\n",
    "        libro_name = libro_input.value  # Obtén el valor de la entrada del libro\n",
    "        recommended = content_recommender(libro_name)\n",
    "        if recommended is not None:\n",
    "            display(recommended)\n",
    "        \n",
    "    # Volver a mostrar los botones de selección\n",
    "    display(button_author)\n",
    "    display(button_genre)\n",
    "    display(button_libro)\n",
    "\n",
    "def sort_by_popularity(button):\n",
    "    clear_output(wait=True)  # Limpia la salida anterior\n",
    "    genre_name = nombreoriginal  # Obtén el valor de la entrada del género\n",
    "    genre_books = b[b['genres'].str.contains(genre_name, case=False, na=False)]\n",
    "    recommended_books = genre_books.sort_values('ratings_count', ascending=False).head(20)\n",
    "        \n",
    "    def limit_genres(genres):\n",
    "        genres_list = genres.split(';')\n",
    "        return ';'.join(genres_list[:5])\n",
    "\n",
    "    recommended_books['genres'] = recommended_books['genres'].apply(limit_genres)\n",
    "    result2 = recommended_books[['Title', 'genres', 'Author', 'score', 'ratings_count']].reset_index(drop=True)\n",
    "    \n",
    "    \n",
    "    # Mostrar los resultados ordenados\n",
    "    display(result2)\n",
    "\n",
    "    # Volver a mostrar los botones de selección\n",
    "    display(button_author)\n",
    "    display(button_genre)\n",
    "    display(button_libro)\n",
    "\n",
    "# Crear widgets de entrada para autor, género y libro\n",
    "author_input = widgets.Text(description=\"Autor:\")\n",
    "genre_input = widgets.Text(description=\"Género:\")\n",
    "libro_input = widgets.Text(description=\"Libro:\")\n",
    "\n",
    "# Crear los botones para seleccionar Autor, Género o Libro\n",
    "button_author = widgets.Button(description=\"Autor\")\n",
    "button_genre = widgets.Button(description=\"Género\")\n",
    "button_libro = widgets.Button(description=\"Libro similar\")\n",
    "\n",
    "# Crear los botones de búsqueda\n",
    "submit_author_button = widgets.Button(description=\"Buscar Autor\")\n",
    "submit_genre_button = widgets.Button(description=\"Buscar Género\")\n",
    "submit_libro_button = widgets.Button(description=\"Buscar por libro\")\n",
    "\n",
    "# Crear el botón para ordenar por popularidad\n",
    "sort_by_popularity_button = widgets.Button(description=\"Ordenar por popularidad\")\n",
    "\n",
    "# Asignar las funciones a los botones\n",
    "button_author.on_click(show_input_fields)\n",
    "button_genre.on_click(show_input_fields)\n",
    "button_libro.on_click(show_input_fields)\n",
    "submit_author_button.on_click(show_recommendations)\n",
    "submit_genre_button.on_click(show_recommendations)\n",
    "submit_libro_button.on_click(show_recommendations)\n",
    "sort_by_popularity_button.on_click(sort_by_popularity)\n",
    "\n",
    "# Mostrar solo los botones de selección al inicio\n",
    "display(button_author)\n",
    "display(button_genre)\n",
    "display(button_libro)\n"
   ]
  },
  {
   "cell_type": "markdown",
   "id": "d8ecf6f3",
   "metadata": {},
   "source": [
    "Para poder emplear el sistema por \"Libro similar\" es necesario que los títulos de las obras estén en inglés. Para poder emplear la pestaña \"Género\" es necesario ponerlo en inglés. Si se desea añadir más de un género debe realizarse de la siguiente manera: Horror;Fiction;Fantasy"
   ]
  }
 ],
 "metadata": {
  "kernelspec": {
   "display_name": "Python 3 (ipykernel)",
   "language": "python",
   "name": "python3"
  },
  "language_info": {
   "codemirror_mode": {
    "name": "ipython",
    "version": 3
   },
   "file_extension": ".py",
   "mimetype": "text/x-python",
   "name": "python",
   "nbconvert_exporter": "python",
   "pygments_lexer": "ipython3",
   "version": "3.11.5"
  }
 },
 "nbformat": 4,
 "nbformat_minor": 5
}
